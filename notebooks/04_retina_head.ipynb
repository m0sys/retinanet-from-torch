{
 "cells": [
  {
   "cell_type": "markdown",
   "metadata": {},
   "source": [
    "# Implementation of RetinaNet Head."
   ]
  },
  {
   "cell_type": "code",
   "execution_count": 1,
   "metadata": {},
   "outputs": [],
   "source": [
    "from importlib.util import find_spec\n",
    "if find_spec(\"model\") is None:\n",
    "    import sys\n",
    "    sys.path.append('..')"
   ]
  },
  {
   "cell_type": "code",
   "execution_count": 2,
   "metadata": {},
   "outputs": [],
   "source": [
    "from typing import Optional\n",
    "import torchvision.models as models\n",
    "import torch.nn as nn\n",
    "import torch.nn.functional as F"
   ]
  },
  {
   "cell_type": "code",
   "execution_count": 4,
   "metadata": {},
   "outputs": [],
   "source": [
    "from base import BaseModel\n",
    "from layers.wrappers import conv3x3"
   ]
  },
  {
   "cell_type": "markdown",
   "metadata": {},
   "source": [
    "## Retina Head\n",
    "paper: [Focal Loss for Dense Object Detection](https://arxiv.org/abs/1708.02002)\n",
    "\n",
    "Section 4. RetinaNet Detector -> Classification Subnet & Box Regression Subnet."
   ]
  },
  {
   "cell_type": "code",
   "execution_count": 13,
   "metadata": {},
   "outputs": [],
   "source": [
    "class RetinaNetHead(BaseModel):\n",
    "    \"\"\"\n",
    "    Implements RetinaNet head. see: https://arxiv.org/abs/1708.02002\n",
    "    \"\"\"\n",
    "    \n",
    "    def __init__(self, num_classes, num_anchors=9, num_channels=256):\n",
    "        super().__init__()\n",
    "        self.num_classes = num_classes\n",
    "        self.num_anchors = num_anchors\n",
    "        self.num_channels = num_channels\n",
    "        \n",
    "        self.classifier_subnet = nn.Sequential(\n",
    "            conv3x3(self.num_channels, self.num_channels),\n",
    "            nn.ReLU(inplace=True),\n",
    "            conv3x3(self.num_channels, self.num_channels),\n",
    "            nn.ReLU(inplace=True),\n",
    "            conv3x3(self.num_channels, self.num_channels),\n",
    "            nn.ReLU(inplace=True),\n",
    "            conv3x3(self.num_channels, self.num_channels),\n",
    "            nn.ReLU(inplace=True),\n",
    "            conv3x3(self.num_channels, self.num_anchors * self.num_classes)\n",
    "        )\n",
    "        \n",
    "        self.regressor_subnet = nn.Sequential(\n",
    "            conv3x3(self.num_channels, self.num_channels),\n",
    "            nn.ReLU(inplace=True),\n",
    "            conv3x3(self.num_channels, self.num_channels),\n",
    "            nn.ReLU(inplace=True),\n",
    "            conv3x3(self.num_channels, self.num_channels),\n",
    "            nn.ReLU(inplace=True),\n",
    "            conv3x3(self.num_channels, self.num_channels),\n",
    "            nn.ReLU(inplace=True),\n",
    "            conv3x3(self.num_channels, self.num_anchors * 4)\n",
    "        )\n",
    "        \n",
    "        \n",
    "    def forward(self, P3, P4, P5, P6, P7):\n",
    "        \n",
    "        logits = {\n",
    "            \"p3\": self.classifier_subnet(P3),\n",
    "            \"p4\": self.classifier_subnet(P4),\n",
    "            \"p5\": self.classifier_subnet(P5),\n",
    "            \"p6\": self.classifier_subnet(P6),\n",
    "            \"p7\": self.classifier_subnet(P7)\n",
    "            \n",
    "        }\n",
    "        bbox_reg = {\n",
    "            \"p3\": self.regressor_subnet(P3),\n",
    "            \"p4\": self.regressor_subnet(P4),\n",
    "            \"p5\": self.regressor_subnet(P5),\n",
    "            \"p6\": self.regressor_subnet(P6),\n",
    "            \"p7\": self.regressor_subnet(P7)\n",
    "        }\n",
    "        \n",
    "        return logits, bbox_reg"
   ]
  },
  {
   "cell_type": "code",
   "execution_count": 14,
   "metadata": {},
   "outputs": [],
   "source": [
    "model = RetinaNetHead(20)"
   ]
  },
  {
   "cell_type": "code",
   "execution_count": 15,
   "metadata": {},
   "outputs": [
    {
     "data": {
      "text/plain": [
       "RetinaNetHead(\n",
       "  (classifier_subnet): Sequential(\n",
       "    (0): Conv2d(256, 256, kernel_size=(3, 3), stride=(1, 1), padding=(1, 1))\n",
       "    (1): ReLU(inplace=True)\n",
       "    (2): Conv2d(256, 256, kernel_size=(3, 3), stride=(1, 1), padding=(1, 1))\n",
       "    (3): ReLU(inplace=True)\n",
       "    (4): Conv2d(256, 256, kernel_size=(3, 3), stride=(1, 1), padding=(1, 1))\n",
       "    (5): ReLU(inplace=True)\n",
       "    (6): Conv2d(256, 256, kernel_size=(3, 3), stride=(1, 1), padding=(1, 1))\n",
       "    (7): ReLU(inplace=True)\n",
       "    (8): Conv2d(256, 180, kernel_size=(3, 3), stride=(1, 1), padding=(1, 1))\n",
       "  )\n",
       "  (regressor_subnet): Sequential(\n",
       "    (0): Conv2d(256, 256, kernel_size=(3, 3), stride=(1, 1), padding=(1, 1))\n",
       "    (1): ReLU(inplace=True)\n",
       "    (2): Conv2d(256, 256, kernel_size=(3, 3), stride=(1, 1), padding=(1, 1))\n",
       "    (3): ReLU(inplace=True)\n",
       "    (4): Conv2d(256, 256, kernel_size=(3, 3), stride=(1, 1), padding=(1, 1))\n",
       "    (5): ReLU(inplace=True)\n",
       "    (6): Conv2d(256, 256, kernel_size=(3, 3), stride=(1, 1), padding=(1, 1))\n",
       "    (7): ReLU(inplace=True)\n",
       "    (8): Conv2d(256, 36, kernel_size=(3, 3), stride=(1, 1), padding=(1, 1))\n",
       "  )\n",
       ")"
      ]
     },
     "execution_count": 15,
     "metadata": {},
     "output_type": "execute_result"
    }
   ],
   "source": [
    "model"
   ]
  }
 ],
 "metadata": {
  "kernelspec": {
   "display_name": "Python 3",
   "language": "python",
   "name": "python3"
  },
  "language_info": {
   "codemirror_mode": {
    "name": "ipython",
    "version": 3
   },
   "file_extension": ".py",
   "mimetype": "text/x-python",
   "name": "python",
   "nbconvert_exporter": "python",
   "pygments_lexer": "ipython3",
   "version": "3.8.6"
  }
 },
 "nbformat": 4,
 "nbformat_minor": 4
}
