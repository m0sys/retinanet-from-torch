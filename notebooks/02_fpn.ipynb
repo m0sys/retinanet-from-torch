{
 "cells": [
  {
   "cell_type": "markdown",
   "metadata": {},
   "source": [
    "# Implementation of the FPN network assuming that the Backbone is a ResNet50 network."
   ]
  },
  {
   "cell_type": "code",
   "execution_count": 2,
   "metadata": {},
   "outputs": [],
   "source": [
    "from importlib.util import find_spec\n",
    "if find_spec(\"model\") is None:\n",
    "    import sys\n",
    "    sys.path.append('..')"
   ]
  },
  {
   "cell_type": "code",
   "execution_count": 3,
   "metadata": {},
   "outputs": [],
   "source": [
    "from typing import Optional\n",
    "import torchvision.models as models\n",
    "import torch.nn as nn\n",
    "import torch.nn.functional as F\n",
    "from base import BaseModel"
   ]
  },
  {
   "cell_type": "markdown",
   "metadata": {},
   "source": [
    "## FPN Network\n",
    "paper: [Feature Pyramid Networks for Object Detection](https://arxiv.org/abs/1612.03144)"
   ]
  },
  {
   "cell_type": "code",
   "execution_count": 8,
   "metadata": {},
   "outputs": [],
   "source": [
    "def lateral_connection(in_channels, out_channels):\n",
    "    return nn.Conv2d(in_channels, out_channels, kernel_size=1)\n",
    "\n",
    "def conv3x3(in_channels: int, out_channels: int, stride: Optional[int]=1):\n",
    "    return nn.Conv2d(in_channels, out_channels, kernel_size=3, stride=stride, padding=1)"
   ]
  },
  {
   "cell_type": "code",
   "execution_count": 18,
   "metadata": {},
   "outputs": [],
   "source": [
    "class LateralUpsampleMerge(nn.Module):\n",
    "    \"\"\"Merge bottom-up path lateral connection with top-down upsampled path\"\"\"\n",
    "    def __init__(self, in_channels, out_channels):\n",
    "        super().__init__()\n",
    "        self.lat_conv = lateral_connection(in_channels, out_channels)\n",
    "    \n",
    "    def forward(self, x, feature_map):\n",
    "        lat_out = self.lat_conv(feature_map)\n",
    "        return lat_out + F.interpolate(x, scale_factor=2.0, mode=\"nearest\")"
   ]
  },
  {
   "cell_type": "code",
   "execution_count": 21,
   "metadata": {},
   "outputs": [],
   "source": [
    "class FPN50(BaseModel):\n",
    "    \"\"\"\n",
    "    Implements FPN network assuming a ResNet50 backbone.\n",
    "    \"\"\"\n",
    "    \n",
    "    def __init__(self, out_features=256):\n",
    "        super().__init__()\n",
    "        \n",
    "        # Stage 5:\n",
    "        self.lateral5 = lateral_connection(2048, out_features)\n",
    "        ## self.lat_merge5 = LateralUpsampleMerge(2048, out_features)\n",
    "        self.conv5 = conv3x3(out_features, out_features)\n",
    "        \n",
    "        # Stage 4:\n",
    "        ## self.lateral4 = lateral_connection(1024, out_features)\n",
    "        self.lat_merge4 = LateralUpsampleMerge(1024, out_features)\n",
    "        self.conv4 = conv3x3(out_features, out_features)\n",
    "        \n",
    "        # Stage 3:\n",
    "        ## self.lateral3 = lateral_connection(512, out_features)\n",
    "        self.lat_merge3 = LateralUpsampleMerge(512, out_features)\n",
    "        self.conv3  = conv3x3(out_features, out_features)\n",
    "        \n",
    "        # Stage 2:\n",
    "        ## self.lateral2 = lateral_connection(256, out_features)\n",
    "        self.lat_merge2 = LateralUpsampleMerge(256, out_features)\n",
    "        self.conv2 = conv3x3(out_features, out_features)  \n",
    "        \n",
    "    def forward(self, C2, C3, C4, C5):\n",
    "        # Stage 5 forward.\n",
    "        out = self.lateral5(C5)\n",
    "        P5 = self.conv5(out)  \n",
    "        \n",
    "        # Stage 4 forward.\n",
    "        out = self.lat_merge4(out, C4)\n",
    "        P4 = self.conv4(out)\n",
    "        \n",
    "        # Stage 3 forward.\n",
    "        out = self.lat_merge3(out, C3)\n",
    "        P3 = self.conv3(out)\n",
    "        \n",
    "        # Stage 2 forward.\n",
    "        out = self.lat_merge2(out, C2)\n",
    "        P2 = self.conv2(out)\n",
    "        \n",
    "        return P2, P3, P4, P5\n",
    "        "
   ]
  },
  {
   "cell_type": "code",
   "execution_count": 22,
   "metadata": {},
   "outputs": [
    {
     "data": {
      "text/plain": [
       "FPN50(\n",
       "  (lateral5): Conv2d(2048, 256, kernel_size=(1, 1), stride=(1, 1))\n",
       "  (conv5): Conv2d(256, 256, kernel_size=(3, 3), stride=(1, 1), padding=(1, 1))\n",
       "  (lat_merge4): LateralUpsampleMerge(\n",
       "    (lat_conv): Conv2d(1024, 256, kernel_size=(1, 1), stride=(1, 1))\n",
       "  )\n",
       "  (conv4): Conv2d(256, 256, kernel_size=(3, 3), stride=(1, 1), padding=(1, 1))\n",
       "  (lat_merge3): LateralUpsampleMerge(\n",
       "    (lat_conv): Conv2d(512, 256, kernel_size=(1, 1), stride=(1, 1))\n",
       "  )\n",
       "  (conv3): Conv2d(256, 256, kernel_size=(3, 3), stride=(1, 1), padding=(1, 1))\n",
       "  (lat_merge2): LateralUpsampleMerge(\n",
       "    (lat_conv): Conv2d(256, 256, kernel_size=(1, 1), stride=(1, 1))\n",
       "  )\n",
       "  (conv2): Conv2d(256, 256, kernel_size=(3, 3), stride=(1, 1), padding=(1, 1))\n",
       ")"
      ]
     },
     "execution_count": 22,
     "metadata": {},
     "output_type": "execute_result"
    }
   ],
   "source": [
    "model = FPN50()\n",
    "model"
   ]
  }
 ],
 "metadata": {
  "kernelspec": {
   "display_name": "Python 3",
   "language": "python",
   "name": "python3"
  },
  "language_info": {
   "codemirror_mode": {
    "name": "ipython",
    "version": 3
   },
   "file_extension": ".py",
   "mimetype": "text/x-python",
   "name": "python",
   "nbconvert_exporter": "python",
   "pygments_lexer": "ipython3",
   "version": "3.8.6"
  }
 },
 "nbformat": 4,
 "nbformat_minor": 4
}
