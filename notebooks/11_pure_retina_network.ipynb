{
 "cells": [
  {
   "cell_type": "markdown",
   "metadata": {},
   "source": [
    "# Putting it All Together Without Loss"
   ]
  },
  {
   "cell_type": "code",
   "execution_count": 1,
   "metadata": {},
   "outputs": [],
   "source": [
    "from importlib.util import find_spec\n",
    "if find_spec(\"model\") is None:\n",
    "    import sys\n",
    "    sys.path.append('..')"
   ]
  },
  {
   "cell_type": "code",
   "execution_count": 2,
   "metadata": {},
   "outputs": [],
   "source": [
    "from typing import Type, List\n",
    "import torch.nn as nn\n",
    "from torch import Tensor"
   ]
  },
  {
   "cell_type": "code",
   "execution_count": 3,
   "metadata": {},
   "outputs": [],
   "source": [
    "from model.backbone.retina_meta import RetinaNetFPN50, RetinaNetHead\n",
    "from model.anchor_generator import AnchorBoxGenerator\n",
    "from model.backbone.resnet import ResNet50\n",
    "from utils.shape_utils import permute_to_N_HWA_K"
   ]
  },
  {
   "cell_type": "code",
   "execution_count": 4,
   "metadata": {},
   "outputs": [],
   "source": [
    "class RetinaNet(nn.Module):\n",
    "    def __init__(self, \n",
    "                 base: Type[nn.Module], \n",
    "                 backbone: Type[nn.Module], \n",
    "                 head: Type[nn.Module], \n",
    "                 anchor_generator: AnchorBoxGenerator, \n",
    "                 num_classes=20):\n",
    "        \n",
    "        super().__init__()\n",
    "        self.base = base()\n",
    "        self.backbone = backbone()\n",
    "        self.head = head(num_classes)\n",
    "        self.anchor_generator = anchor_generator\n",
    "        self.num_classes = num_classes\n",
    "        \n",
    "    def forward(self, x):\n",
    "        _, C3, C4, C5 = self.base(x)\n",
    "        P3, P4, P5, P6, P7 = self.backbone(C3, C4, C5)\n",
    "        \n",
    "        pred_logits, pred_bboxes = self.head(P3, P4, P5, P6, P7)\n",
    "        \n",
    "        anchors = self.anchor_generator([P3, P4, P5, P6, P7])\n",
    "        \n",
    "        reshaped_logits = [\n",
    "            permute_to_N_HWA_K(pred_logits[k], self.num_classes) for k in pred_logits\n",
    "        ]\n",
    "        \n",
    "        reshaped_bboxes = [\n",
    "            permute_to_N_HWA_K(pred_bboxes[k], 4) for k in pred_bboxes\n",
    "        ]\n",
    "        \n",
    "        return reshaped_logits, reshaped_bboxes, anchors"
   ]
  },
  {
   "cell_type": "markdown",
   "metadata": {},
   "source": [
    "## Test Model"
   ]
  },
  {
   "cell_type": "code",
   "execution_count": 2,
   "metadata": {},
   "outputs": [],
   "source": [
    "import torch"
   ]
  },
  {
   "cell_type": "code",
   "execution_count": 3,
   "metadata": {},
   "outputs": [],
   "source": [
    "num_classes = 20\n",
    "num_anchors = 9"
   ]
  },
  {
   "cell_type": "code",
   "execution_count": 4,
   "metadata": {},
   "outputs": [],
   "source": [
    "data = torch.randn((16, 3, 512, 512))"
   ]
  },
  {
   "cell_type": "code",
   "execution_count": 8,
   "metadata": {},
   "outputs": [],
   "source": [
    "anchor_gen = AnchorBoxGenerator(\n",
    "    sizes=[32., 64., 128., 256., 512.],\n",
    "    aspect_ratios=[0.5, 1., 2.],\n",
    "    scales=[1., 2 ** (1 / 3), 2 ** (2 / 3)],\n",
    "    strides=[2, 2, 2, 2, 2]\n",
    ")"
   ]
  },
  {
   "cell_type": "code",
   "execution_count": 9,
   "metadata": {},
   "outputs": [],
   "source": [
    "model = RetinaNet(ResNet50, RetinaNetFPN50, RetinaNetHead, anchor_gen, num_classes=num_classes)"
   ]
  },
  {
   "cell_type": "code",
   "execution_count": null,
   "metadata": {},
   "outputs": [],
   "source": [
    "pred_logits, pred_bboxes, _ = model(data)"
   ]
  },
  {
   "cell_type": "code",
   "execution_count": null,
   "metadata": {},
   "outputs": [],
   "source": [
    "assert pred_logits[0].shape == (16, 64 * 64 * num_anchors, num_classes)"
   ]
  },
  {
   "cell_type": "code",
   "execution_count": null,
   "metadata": {},
   "outputs": [],
   "source": [
    "assert pred_bboxes[0].shape == (16, 64 * 64 * num_anchors, 4)"
   ]
  },
  {
   "cell_type": "code",
   "execution_count": 5,
   "metadata": {},
   "outputs": [],
   "source": [
    "from model.model import RetinaNet500"
   ]
  },
  {
   "cell_type": "code",
   "execution_count": 6,
   "metadata": {},
   "outputs": [],
   "source": [
    "model = RetinaNet500(num_classes)"
   ]
  },
  {
   "cell_type": "code",
   "execution_count": null,
   "metadata": {},
   "outputs": [],
   "source": [
    "pred_logits, pred_anchor_deltas, anchors = model(data)"
   ]
  },
  {
   "cell_type": "code",
   "execution_count": null,
   "metadata": {},
   "outputs": [],
   "source": [
    "assert len(pred_logits) == len(pred_anchor_deltas) == 5\n",
    "assert pred_logits[0].shape == (16, 64 * 64 * num_anchors, num_classes)\n",
    "assert pred_anchor_deltas[0].shape == (16, 64 * 64 * num_anchors, 4)\n",
    "assert len(anchors) == 5"
   ]
  },
  {
   "cell_type": "markdown",
   "metadata": {},
   "source": [
    "## Check Model Variance and Mean and Play with INIT"
   ]
  },
  {
   "cell_type": "code",
   "execution_count": 31,
   "metadata": {},
   "outputs": [],
   "source": [
    "import torch.nn as nn\n",
    "import torch.nn.init as init\n",
    "import torch.nn.functional as F"
   ]
  },
  {
   "cell_type": "code",
   "execution_count": 19,
   "metadata": {},
   "outputs": [],
   "source": [
    "def stats(x): return x.mean(), x.std()"
   ]
  },
  {
   "cell_type": "code",
   "execution_count": 22,
   "metadata": {},
   "outputs": [],
   "source": [
    "conv5_in = torch.randn((16, 256, 8, 8))"
   ]
  },
  {
   "cell_type": "code",
   "execution_count": 21,
   "metadata": {},
   "outputs": [
    {
     "data": {
      "text/plain": [
       "((tensor(-2.0029e-05, grad_fn=<MeanBackward0>),\n",
       "  tensor(0.0120, grad_fn=<StdBackward0>)),\n",
       " (tensor(0.0011, grad_fn=<MeanBackward0>),\n",
       "  tensor(0.0123, grad_fn=<StdBackward0>)))"
      ]
     },
     "execution_count": 21,
     "metadata": {},
     "output_type": "execute_result"
    }
   ],
   "source": [
    "stats(model.model.backbone.conv5.weight), stats(model.model.backbone.conv5.bias)"
   ]
  },
  {
   "cell_type": "markdown",
   "metadata": {},
   "source": [
    "### Conv Layer W/O Activation"
   ]
  },
  {
   "cell_type": "code",
   "execution_count": 25,
   "metadata": {},
   "outputs": [
    {
     "data": {
      "text/plain": [
       "(tensor(0.0002, grad_fn=<MeanBackward0>),\n",
       " tensor(0.5302, grad_fn=<StdBackward0>))"
      ]
     },
     "execution_count": 25,
     "metadata": {},
     "output_type": "execute_result"
    }
   ],
   "source": [
    "stats(model.model.backbone.conv5(conv5_in))"
   ]
  },
  {
   "cell_type": "code",
   "execution_count": 27,
   "metadata": {},
   "outputs": [
    {
     "data": {
      "text/plain": [
       "(tensor(0.0009, grad_fn=<MeanBackward0>),\n",
       " tensor(0.9169, grad_fn=<StdBackward0>))"
      ]
     },
     "execution_count": 27,
     "metadata": {},
     "output_type": "execute_result"
    }
   ],
   "source": [
    "init.kaiming_normal_(model.model.backbone.conv5.weight, a=1.)\n",
    "stats(model.model.backbone.conv5(conv5_in))"
   ]
  },
  {
   "cell_type": "markdown",
   "metadata": {},
   "source": [
    "### Conv Layer W/ Activation (ReLU)"
   ]
  },
  {
   "cell_type": "code",
   "execution_count": 34,
   "metadata": {},
   "outputs": [],
   "source": [
    "def f1(conv, x, a=0): return F.leaky_relu(conv(x), a)"
   ]
  },
  {
   "cell_type": "code",
   "execution_count": 35,
   "metadata": {},
   "outputs": [
    {
     "data": {
      "text/plain": [
       "(tensor(0.5144, grad_fn=<MeanBackward0>),\n",
       " tensor(0.7585, grad_fn=<StdBackward0>))"
      ]
     },
     "execution_count": 35,
     "metadata": {},
     "output_type": "execute_result"
    }
   ],
   "source": [
    "init.kaiming_normal_(model.model.backbone.conv5.weight, a=0)\n",
    "stats(f1(model.model.backbone.conv5, conv5_in))"
   ]
  },
  {
   "cell_type": "code",
   "execution_count": 36,
   "metadata": {},
   "outputs": [],
   "source": [
    "l1 = nn.Conv2d(256, 256, kernel_size=3, stride=1)"
   ]
  },
  {
   "cell_type": "code",
   "execution_count": 37,
   "metadata": {},
   "outputs": [
    {
     "data": {
      "text/plain": [
       "(tensor(0.2294, grad_fn=<MeanBackward0>),\n",
       " tensor(0.3355, grad_fn=<StdBackward0>))"
      ]
     },
     "execution_count": 37,
     "metadata": {},
     "output_type": "execute_result"
    }
   ],
   "source": [
    "stats(f1(l1, conv5_in))"
   ]
  }
 ],
 "metadata": {
  "kernelspec": {
   "display_name": "Python 3",
   "language": "python",
   "name": "python3"
  },
  "language_info": {
   "codemirror_mode": {
    "name": "ipython",
    "version": 3
   },
   "file_extension": ".py",
   "mimetype": "text/x-python",
   "name": "python",
   "nbconvert_exporter": "python",
   "pygments_lexer": "ipython3",
   "version": "3.8.6"
  }
 },
 "nbformat": 4,
 "nbformat_minor": 4
}
