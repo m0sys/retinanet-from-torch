{
 "cells": [
  {
   "cell_type": "markdown",
   "metadata": {},
   "source": [
    "# Implementation of Matching Algorithm."
   ]
  },
  {
   "cell_type": "code",
   "execution_count": 1,
   "metadata": {},
   "outputs": [],
   "source": [
    "from importlib.util import find_spec\n",
    "if find_spec(\"model\") is None:\n",
    "    import sys\n",
    "    sys.path.append('..')"
   ]
  },
  {
   "cell_type": "code",
   "execution_count": 5,
   "metadata": {},
   "outputs": [],
   "source": [
    "from typing import List\n",
    "import torch\n",
    "from torch import Tensor\n",
    "import torch.nn as nn\n",
    "import torch.nn.functional as F"
   ]
  },
  {
   "cell_type": "code",
   "execution_count": 6,
   "metadata": {},
   "outputs": [],
   "source": [
    "from layers.wrappers import nonzero_tuple"
   ]
  },
  {
   "cell_type": "markdown",
   "metadata": {},
   "source": [
    "## Matching Strategy.\n",
    "paper: [Faster R-CNN: Towards Real-Time Object Detection with Region Proposal Networks](https://arxiv.org/abs/1506.01497)"
   ]
  },
  {
   "cell_type": "code",
   "execution_count": 11,
   "metadata": {},
   "outputs": [],
   "source": [
    "class Matcher:\n",
    "    \"\"\"\n",
    "    This class assigns to each prediction \"element\" (e.g., a box) a\n",
    "    ground-truth element. Each predicted element with have exactly zero\n",
    "    or one matches. Each ground-truth element may be matched to zero or\n",
    "    more predicted elements.\n",
    "    \n",
    "    The match is determined by the MxN `match_quality_matrix`, that\n",
    "    characterizes how well each (ground-truth, prediction) pair match.\n",
    "    \n",
    "    i.e. In the case of boxes we can use the IOU between pairs. \n",
    "    \n",
    "    The matcher returns:\n",
    "        1. A vector of length N containing the index of the ground-truth\n",
    "           element m in [0, M) that matches to prediction n in [0, N).\n",
    "           \n",
    "        2. A vector of length N containing the labels for each prediction. \n",
    "    \"\"\"\n",
    "    \n",
    "    def __init__(\n",
    "        self, thresholds: List[float], labels: List[int], allow_low_quality_matches: bool = False\n",
    "    ):\n",
    "        \"\"\"\n",
    "        Args:\n",
    "            thresholds: a list of thresholds used to stratify predictions\n",
    "                into levels.\n",
    "            labels: a list of values to lable predictions belonging at each level.\n",
    "                A label can be one of {-1, 0, 1} signifying {ignore, negative class, positive class},\n",
    "                respectively.\n",
    "            allow_low_quality_matches: if True, produce additional matches for predictions\n",
    "                with maximum match quality lower than high_threshold.\n",
    "                See set_low_quality_matches_ for more details.\n",
    "        \"\"\"\n",
    "        thresholds = thresholds[:]\n",
    "        assert thresholds[0] > 0\n",
    "        thresholds.insert(0, -float(\"inf\"))\n",
    "        thresholds.append(float(\"inf\"))\n",
    "        \n",
    "        # Currently torchscript does not support all pos generator.\n",
    "        assert all([low <= high] for (low, high) in zip(thresholds[:-1], thresholds[1:]))\n",
    "        assert all([l in [-1, 0, 1] for l in labels])\n",
    "        assert len(labels) == len(thresholds) - 1\n",
    "        \n",
    "        self.thresholds = thresholds\n",
    "        self.labels = labels\n",
    "        self.allow_low_quality_matches = allow_low_quality_matches\n",
    "        \n",
    "    def __call__(self, match_quality_matrix: Tensor):\n",
    "        \"\"\"\n",
    "        Args:\n",
    "            match_quality_matrix (Tensor[float]): an MxN tensor containing the pairwise quality between M \n",
    "                ground-truth elements and N predicted elements. All elements must be >= 0\n",
    "                (due to the use of `torch.nonzero` in `set_low_quality_matches_` methods.)\n",
    "        Returns:\n",
    "            matches (Tensor[int64]): a vector of length N, where matches[i] is a matched \n",
    "                ground-truth index in [0, M).\n",
    "            match_labels (Tensor[int8]): a vector of length N where match_labels[i] indicates\n",
    "                whether a prediction is a true or false positive or ignored.\n",
    "        \"\"\"\n",
    "        assert match_quality_matrix.dim() == 2\n",
    "        if match_quality_matrix.numel() == 0:\n",
    "            default_matches = match_quality_matrix.new_full(\n",
    "                (match_quality_matrix.size(1),), 0, dtype=torch.int64\n",
    "            )\n",
    "            \n",
    "            # No gt boxes exits. So set labels to `self.labels[0]` which is usally background.\n",
    "            # To ignore instead make labels=[-1, 0, -1, 1].\n",
    "            default_match_labels = match_quality_matrix.new_full(\n",
    "                (match_quality_matrix.size(1), ), self.labels[0], dtype=torch.int8\n",
    "            )\n",
    "            \n",
    "            return default_matches, default_match_labels\n",
    "        \n",
    "        assert torch.all(match_quality_matrix >= 0)\n",
    "        matched_vals, matches = match_quality_matrix.max(dim=0)\n",
    "        match_labels = matches.new_full(matches.size(), 1, dtype=torch.int8)\n",
    "        \n",
    "        for (l, low, high) in zip(self.labels, self.thresholds[:-1], self.thresholds[1:]):\n",
    "            low_high = (matched_vals >= low) & (matched_vals < high)\n",
    "            match_labels[low_high] = l\n",
    "            \n",
    "        if self.allow_low_quality_matches:\n",
    "            self.set_low_quality_matches_(match_labels, match_quality_matrix)\n",
    "            \n",
    "        return matches, match_labels\n",
    "    \n",
    "    def set_low_quality_matches_(self, match_labels, match_quality_matrix):\n",
    "        \"\"\"\n",
    "        Produce additional matches for predictions that have only low_quality matches.\n",
    "        \n",
    "        Specifically, for each ground-truth label element find the set of predictions that have\n",
    "        maximum overlap with it and set them to match ground-truth if unmatched previously.\n",
    "        \n",
    "        This function implements the RPN assignment case (i) in Sec. 3.1.2 of\n",
    "        :paper:`Faster R-CNN`.\n",
    "        \"\"\"\n",
    "        highest_quality_foreach_gt, _ = match_quality_matrix.max(dim=1)\n",
    "        _, pred_inds_with_highest_quality = nonzero_tuple(\n",
    "            match_quality_matrix == highest_quality_foreach_gt[:, None]\n",
    "        )\n",
    "        \n",
    "        match_labels[pred_inds_with_highest_quality] = 1\n"
   ]
  },
  {
   "cell_type": "code",
   "execution_count": 12,
   "metadata": {},
   "outputs": [],
   "source": [
    "matcher = Matcher([0.4, 0.5], [-1, 0, 1])"
   ]
  }
 ],
 "metadata": {
  "kernelspec": {
   "display_name": "Python 3",
   "language": "python",
   "name": "python3"
  },
  "language_info": {
   "codemirror_mode": {
    "name": "ipython",
    "version": 3
   },
   "file_extension": ".py",
   "mimetype": "text/x-python",
   "name": "python",
   "nbconvert_exporter": "python",
   "pygments_lexer": "ipython3",
   "version": "3.8.6"
  }
 },
 "nbformat": 4,
 "nbformat_minor": 4
}
